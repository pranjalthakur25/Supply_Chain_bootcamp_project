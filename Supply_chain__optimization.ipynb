{
  "cells": [
    {
      "cell_type": "markdown",
      "metadata": {
        "id": "UXnLBWQ3mPNd"
      },
      "source": [
        "###SUPPLY CHAIN OPTIMIZATION"
      ]
    },
    {
      "cell_type": "code",
      "execution_count": null,
      "metadata": {
        "id": "DXzKkIlmkjbH"
      },
      "outputs": [],
      "source": [
        "import numpy as np\n",
        "import pandas as pd\n",
        "import matplotlib.pyplot as plt\n",
        "import seaborn as sns"
      ]
    },
    {
      "cell_type": "code",
      "execution_count": null,
      "metadata": {
        "id": "Yf0f4WaGku9X"
      },
      "outputs": [],
      "source": [
        "df=pd.read_csv(\"/content/supply_chain_data.csv\")"
      ]
    },
    {
      "cell_type": "code",
      "execution_count": null,
      "metadata": {
        "colab": {
          "base_uri": "https://localhost:8080/",
          "height": 374
        },
        "id": "dcJee17glARI",
        "outputId": "267b9853-288e-4309-d6dc-5a2f5e38e8b5"
      },
      "outputs": [
        {
          "data": {
            "application/vnd.google.colaboratory.intrinsic+json": {
              "type": "dataframe",
              "variable_name": "df"
            },
            "text/html": [
              "\n",
              "  <div id=\"df-eef7bd01-0785-45d9-ba8d-d11d586b9f30\" class=\"colab-df-container\">\n",
              "    <div>\n",
              "<style scoped>\n",
              "    .dataframe tbody tr th:only-of-type {\n",
              "        vertical-align: middle;\n",
              "    }\n",
              "\n",
              "    .dataframe tbody tr th {\n",
              "        vertical-align: top;\n",
              "    }\n",
              "\n",
              "    .dataframe thead th {\n",
              "        text-align: right;\n",
              "    }\n",
              "</style>\n",
              "<table border=\"1\" class=\"dataframe\">\n",
              "  <thead>\n",
              "    <tr style=\"text-align: right;\">\n",
              "      <th></th>\n",
              "      <th>Product type</th>\n",
              "      <th>SKU</th>\n",
              "      <th>Price</th>\n",
              "      <th>Availability</th>\n",
              "      <th>Number of products sold</th>\n",
              "      <th>Revenue generated</th>\n",
              "      <th>Customer demographics</th>\n",
              "      <th>Stock levels</th>\n",
              "      <th>Lead times</th>\n",
              "      <th>Order quantities</th>\n",
              "      <th>...</th>\n",
              "      <th>Location</th>\n",
              "      <th>Lead time</th>\n",
              "      <th>Production volumes</th>\n",
              "      <th>Manufacturing lead time</th>\n",
              "      <th>Manufacturing costs</th>\n",
              "      <th>Inspection results</th>\n",
              "      <th>Defect rates</th>\n",
              "      <th>Transportation modes</th>\n",
              "      <th>Routes</th>\n",
              "      <th>Costs</th>\n",
              "    </tr>\n",
              "  </thead>\n",
              "  <tbody>\n",
              "    <tr>\n",
              "      <th>0</th>\n",
              "      <td>haircare</td>\n",
              "      <td>SKU0</td>\n",
              "      <td>69.808006</td>\n",
              "      <td>55</td>\n",
              "      <td>802</td>\n",
              "      <td>8661.996792</td>\n",
              "      <td>Non-binary</td>\n",
              "      <td>58</td>\n",
              "      <td>7</td>\n",
              "      <td>96</td>\n",
              "      <td>...</td>\n",
              "      <td>Mumbai</td>\n",
              "      <td>29</td>\n",
              "      <td>215</td>\n",
              "      <td>29</td>\n",
              "      <td>46.279879</td>\n",
              "      <td>Pending</td>\n",
              "      <td>0.226410</td>\n",
              "      <td>Road</td>\n",
              "      <td>Route B</td>\n",
              "      <td>187.752075</td>\n",
              "    </tr>\n",
              "    <tr>\n",
              "      <th>1</th>\n",
              "      <td>skincare</td>\n",
              "      <td>SKU1</td>\n",
              "      <td>14.843523</td>\n",
              "      <td>95</td>\n",
              "      <td>736</td>\n",
              "      <td>7460.900065</td>\n",
              "      <td>Female</td>\n",
              "      <td>53</td>\n",
              "      <td>30</td>\n",
              "      <td>37</td>\n",
              "      <td>...</td>\n",
              "      <td>Mumbai</td>\n",
              "      <td>23</td>\n",
              "      <td>517</td>\n",
              "      <td>30</td>\n",
              "      <td>33.616769</td>\n",
              "      <td>Pending</td>\n",
              "      <td>4.854068</td>\n",
              "      <td>Road</td>\n",
              "      <td>Route B</td>\n",
              "      <td>503.065579</td>\n",
              "    </tr>\n",
              "    <tr>\n",
              "      <th>2</th>\n",
              "      <td>haircare</td>\n",
              "      <td>SKU2</td>\n",
              "      <td>11.319683</td>\n",
              "      <td>34</td>\n",
              "      <td>8</td>\n",
              "      <td>9577.749626</td>\n",
              "      <td>Unknown</td>\n",
              "      <td>1</td>\n",
              "      <td>10</td>\n",
              "      <td>88</td>\n",
              "      <td>...</td>\n",
              "      <td>Mumbai</td>\n",
              "      <td>12</td>\n",
              "      <td>971</td>\n",
              "      <td>27</td>\n",
              "      <td>30.688019</td>\n",
              "      <td>Pending</td>\n",
              "      <td>4.580593</td>\n",
              "      <td>Air</td>\n",
              "      <td>Route C</td>\n",
              "      <td>141.920282</td>\n",
              "    </tr>\n",
              "    <tr>\n",
              "      <th>3</th>\n",
              "      <td>skincare</td>\n",
              "      <td>SKU3</td>\n",
              "      <td>61.163343</td>\n",
              "      <td>68</td>\n",
              "      <td>83</td>\n",
              "      <td>7766.836426</td>\n",
              "      <td>Non-binary</td>\n",
              "      <td>23</td>\n",
              "      <td>13</td>\n",
              "      <td>59</td>\n",
              "      <td>...</td>\n",
              "      <td>Kolkata</td>\n",
              "      <td>24</td>\n",
              "      <td>937</td>\n",
              "      <td>18</td>\n",
              "      <td>35.624741</td>\n",
              "      <td>Fail</td>\n",
              "      <td>4.746649</td>\n",
              "      <td>Rail</td>\n",
              "      <td>Route A</td>\n",
              "      <td>254.776159</td>\n",
              "    </tr>\n",
              "    <tr>\n",
              "      <th>4</th>\n",
              "      <td>skincare</td>\n",
              "      <td>SKU4</td>\n",
              "      <td>4.805496</td>\n",
              "      <td>26</td>\n",
              "      <td>871</td>\n",
              "      <td>2686.505152</td>\n",
              "      <td>Non-binary</td>\n",
              "      <td>5</td>\n",
              "      <td>3</td>\n",
              "      <td>56</td>\n",
              "      <td>...</td>\n",
              "      <td>Delhi</td>\n",
              "      <td>5</td>\n",
              "      <td>414</td>\n",
              "      <td>3</td>\n",
              "      <td>92.065161</td>\n",
              "      <td>Fail</td>\n",
              "      <td>3.145580</td>\n",
              "      <td>Air</td>\n",
              "      <td>Route A</td>\n",
              "      <td>923.440632</td>\n",
              "    </tr>\n",
              "  </tbody>\n",
              "</table>\n",
              "<p>5 rows × 24 columns</p>\n",
              "</div>\n",
              "    <div class=\"colab-df-buttons\">\n",
              "\n",
              "  <div class=\"colab-df-container\">\n",
              "    <button class=\"colab-df-convert\" onclick=\"convertToInteractive('df-eef7bd01-0785-45d9-ba8d-d11d586b9f30')\"\n",
              "            title=\"Convert this dataframe to an interactive table.\"\n",
              "            style=\"display:none;\">\n",
              "\n",
              "  <svg xmlns=\"http://www.w3.org/2000/svg\" height=\"24px\" viewBox=\"0 -960 960 960\">\n",
              "    <path d=\"M120-120v-720h720v720H120Zm60-500h600v-160H180v160Zm220 220h160v-160H400v160Zm0 220h160v-160H400v160ZM180-400h160v-160H180v160Zm440 0h160v-160H620v160ZM180-180h160v-160H180v160Zm440 0h160v-160H620v160Z\"/>\n",
              "  </svg>\n",
              "    </button>\n",
              "\n",
              "  <style>\n",
              "    .colab-df-container {\n",
              "      display:flex;\n",
              "      gap: 12px;\n",
              "    }\n",
              "\n",
              "    .colab-df-convert {\n",
              "      background-color: #E8F0FE;\n",
              "      border: none;\n",
              "      border-radius: 50%;\n",
              "      cursor: pointer;\n",
              "      display: none;\n",
              "      fill: #1967D2;\n",
              "      height: 32px;\n",
              "      padding: 0 0 0 0;\n",
              "      width: 32px;\n",
              "    }\n",
              "\n",
              "    .colab-df-convert:hover {\n",
              "      background-color: #E2EBFA;\n",
              "      box-shadow: 0px 1px 2px rgba(60, 64, 67, 0.3), 0px 1px 3px 1px rgba(60, 64, 67, 0.15);\n",
              "      fill: #174EA6;\n",
              "    }\n",
              "\n",
              "    .colab-df-buttons div {\n",
              "      margin-bottom: 4px;\n",
              "    }\n",
              "\n",
              "    [theme=dark] .colab-df-convert {\n",
              "      background-color: #3B4455;\n",
              "      fill: #D2E3FC;\n",
              "    }\n",
              "\n",
              "    [theme=dark] .colab-df-convert:hover {\n",
              "      background-color: #434B5C;\n",
              "      box-shadow: 0px 1px 3px 1px rgba(0, 0, 0, 0.15);\n",
              "      filter: drop-shadow(0px 1px 2px rgba(0, 0, 0, 0.3));\n",
              "      fill: #FFFFFF;\n",
              "    }\n",
              "  </style>\n",
              "\n",
              "    <script>\n",
              "      const buttonEl =\n",
              "        document.querySelector('#df-eef7bd01-0785-45d9-ba8d-d11d586b9f30 button.colab-df-convert');\n",
              "      buttonEl.style.display =\n",
              "        google.colab.kernel.accessAllowed ? 'block' : 'none';\n",
              "\n",
              "      async function convertToInteractive(key) {\n",
              "        const element = document.querySelector('#df-eef7bd01-0785-45d9-ba8d-d11d586b9f30');\n",
              "        const dataTable =\n",
              "          await google.colab.kernel.invokeFunction('convertToInteractive',\n",
              "                                                    [key], {});\n",
              "        if (!dataTable) return;\n",
              "\n",
              "        const docLinkHtml = 'Like what you see? Visit the ' +\n",
              "          '<a target=\"_blank\" href=https://colab.research.google.com/notebooks/data_table.ipynb>data table notebook</a>'\n",
              "          + ' to learn more about interactive tables.';\n",
              "        element.innerHTML = '';\n",
              "        dataTable['output_type'] = 'display_data';\n",
              "        await google.colab.output.renderOutput(dataTable, element);\n",
              "        const docLink = document.createElement('div');\n",
              "        docLink.innerHTML = docLinkHtml;\n",
              "        element.appendChild(docLink);\n",
              "      }\n",
              "    </script>\n",
              "  </div>\n",
              "\n",
              "\n",
              "<div id=\"df-959bbe13-7bb9-4a4c-b6f4-c0e52e54fa06\">\n",
              "  <button class=\"colab-df-quickchart\" onclick=\"quickchart('df-959bbe13-7bb9-4a4c-b6f4-c0e52e54fa06')\"\n",
              "            title=\"Suggest charts\"\n",
              "            style=\"display:none;\">\n",
              "\n",
              "<svg xmlns=\"http://www.w3.org/2000/svg\" height=\"24px\"viewBox=\"0 0 24 24\"\n",
              "     width=\"24px\">\n",
              "    <g>\n",
              "        <path d=\"M19 3H5c-1.1 0-2 .9-2 2v14c0 1.1.9 2 2 2h14c1.1 0 2-.9 2-2V5c0-1.1-.9-2-2-2zM9 17H7v-7h2v7zm4 0h-2V7h2v10zm4 0h-2v-4h2v4z\"/>\n",
              "    </g>\n",
              "</svg>\n",
              "  </button>\n",
              "\n",
              "<style>\n",
              "  .colab-df-quickchart {\n",
              "      --bg-color: #E8F0FE;\n",
              "      --fill-color: #1967D2;\n",
              "      --hover-bg-color: #E2EBFA;\n",
              "      --hover-fill-color: #174EA6;\n",
              "      --disabled-fill-color: #AAA;\n",
              "      --disabled-bg-color: #DDD;\n",
              "  }\n",
              "\n",
              "  [theme=dark] .colab-df-quickchart {\n",
              "      --bg-color: #3B4455;\n",
              "      --fill-color: #D2E3FC;\n",
              "      --hover-bg-color: #434B5C;\n",
              "      --hover-fill-color: #FFFFFF;\n",
              "      --disabled-bg-color: #3B4455;\n",
              "      --disabled-fill-color: #666;\n",
              "  }\n",
              "\n",
              "  .colab-df-quickchart {\n",
              "    background-color: var(--bg-color);\n",
              "    border: none;\n",
              "    border-radius: 50%;\n",
              "    cursor: pointer;\n",
              "    display: none;\n",
              "    fill: var(--fill-color);\n",
              "    height: 32px;\n",
              "    padding: 0;\n",
              "    width: 32px;\n",
              "  }\n",
              "\n",
              "  .colab-df-quickchart:hover {\n",
              "    background-color: var(--hover-bg-color);\n",
              "    box-shadow: 0 1px 2px rgba(60, 64, 67, 0.3), 0 1px 3px 1px rgba(60, 64, 67, 0.15);\n",
              "    fill: var(--button-hover-fill-color);\n",
              "  }\n",
              "\n",
              "  .colab-df-quickchart-complete:disabled,\n",
              "  .colab-df-quickchart-complete:disabled:hover {\n",
              "    background-color: var(--disabled-bg-color);\n",
              "    fill: var(--disabled-fill-color);\n",
              "    box-shadow: none;\n",
              "  }\n",
              "\n",
              "  .colab-df-spinner {\n",
              "    border: 2px solid var(--fill-color);\n",
              "    border-color: transparent;\n",
              "    border-bottom-color: var(--fill-color);\n",
              "    animation:\n",
              "      spin 1s steps(1) infinite;\n",
              "  }\n",
              "\n",
              "  @keyframes spin {\n",
              "    0% {\n",
              "      border-color: transparent;\n",
              "      border-bottom-color: var(--fill-color);\n",
              "      border-left-color: var(--fill-color);\n",
              "    }\n",
              "    20% {\n",
              "      border-color: transparent;\n",
              "      border-left-color: var(--fill-color);\n",
              "      border-top-color: var(--fill-color);\n",
              "    }\n",
              "    30% {\n",
              "      border-color: transparent;\n",
              "      border-left-color: var(--fill-color);\n",
              "      border-top-color: var(--fill-color);\n",
              "      border-right-color: var(--fill-color);\n",
              "    }\n",
              "    40% {\n",
              "      border-color: transparent;\n",
              "      border-right-color: var(--fill-color);\n",
              "      border-top-color: var(--fill-color);\n",
              "    }\n",
              "    60% {\n",
              "      border-color: transparent;\n",
              "      border-right-color: var(--fill-color);\n",
              "    }\n",
              "    80% {\n",
              "      border-color: transparent;\n",
              "      border-right-color: var(--fill-color);\n",
              "      border-bottom-color: var(--fill-color);\n",
              "    }\n",
              "    90% {\n",
              "      border-color: transparent;\n",
              "      border-bottom-color: var(--fill-color);\n",
              "    }\n",
              "  }\n",
              "</style>\n",
              "\n",
              "  <script>\n",
              "    async function quickchart(key) {\n",
              "      const quickchartButtonEl =\n",
              "        document.querySelector('#' + key + ' button');\n",
              "      quickchartButtonEl.disabled = true;  // To prevent multiple clicks.\n",
              "      quickchartButtonEl.classList.add('colab-df-spinner');\n",
              "      try {\n",
              "        const charts = await google.colab.kernel.invokeFunction(\n",
              "            'suggestCharts', [key], {});\n",
              "      } catch (error) {\n",
              "        console.error('Error during call to suggestCharts:', error);\n",
              "      }\n",
              "      quickchartButtonEl.classList.remove('colab-df-spinner');\n",
              "      quickchartButtonEl.classList.add('colab-df-quickchart-complete');\n",
              "    }\n",
              "    (() => {\n",
              "      let quickchartButtonEl =\n",
              "        document.querySelector('#df-959bbe13-7bb9-4a4c-b6f4-c0e52e54fa06 button');\n",
              "      quickchartButtonEl.style.display =\n",
              "        google.colab.kernel.accessAllowed ? 'block' : 'none';\n",
              "    })();\n",
              "  </script>\n",
              "</div>\n",
              "    </div>\n",
              "  </div>\n"
            ],
            "text/plain": [
              "  Product type   SKU      Price  Availability  Number of products sold  \\\n",
              "0     haircare  SKU0  69.808006            55                      802   \n",
              "1     skincare  SKU1  14.843523            95                      736   \n",
              "2     haircare  SKU2  11.319683            34                        8   \n",
              "3     skincare  SKU3  61.163343            68                       83   \n",
              "4     skincare  SKU4   4.805496            26                      871   \n",
              "\n",
              "   Revenue generated Customer demographics  Stock levels  Lead times  \\\n",
              "0        8661.996792            Non-binary            58           7   \n",
              "1        7460.900065                Female            53          30   \n",
              "2        9577.749626               Unknown             1          10   \n",
              "3        7766.836426            Non-binary            23          13   \n",
              "4        2686.505152            Non-binary             5           3   \n",
              "\n",
              "   Order quantities  ...  Location Lead time  Production volumes  \\\n",
              "0                96  ...    Mumbai        29                 215   \n",
              "1                37  ...    Mumbai        23                 517   \n",
              "2                88  ...    Mumbai        12                 971   \n",
              "3                59  ...   Kolkata        24                 937   \n",
              "4                56  ...     Delhi         5                 414   \n",
              "\n",
              "  Manufacturing lead time Manufacturing costs  Inspection results  \\\n",
              "0                      29           46.279879             Pending   \n",
              "1                      30           33.616769             Pending   \n",
              "2                      27           30.688019             Pending   \n",
              "3                      18           35.624741                Fail   \n",
              "4                       3           92.065161                Fail   \n",
              "\n",
              "   Defect rates  Transportation modes   Routes       Costs  \n",
              "0      0.226410                  Road  Route B  187.752075  \n",
              "1      4.854068                  Road  Route B  503.065579  \n",
              "2      4.580593                   Air  Route C  141.920282  \n",
              "3      4.746649                  Rail  Route A  254.776159  \n",
              "4      3.145580                   Air  Route A  923.440632  \n",
              "\n",
              "[5 rows x 24 columns]"
            ]
          },
          "execution_count": 4,
          "metadata": {},
          "output_type": "execute_result"
        }
      ],
      "source": [
        "df.head()"
      ]
    },
    {
      "cell_type": "markdown",
      "metadata": {
        "id": "14M4HgPw7eD9"
      },
      "source": [
        "DATA CLEANING"
      ]
    },
    {
      "cell_type": "code",
      "execution_count": null,
      "metadata": {
        "colab": {
          "base_uri": "https://localhost:8080/"
        },
        "id": "JV3jZl5E_50b",
        "outputId": "b7ed6028-f879-4d03-b235-82bc385ee2a3"
      },
      "outputs": [
        {
          "data": {
            "text/plain": [
              "(100, 24)"
            ]
          },
          "execution_count": 5,
          "metadata": {},
          "output_type": "execute_result"
        }
      ],
      "source": [
        "df.shape"
      ]
    },
    {
      "cell_type": "code",
      "execution_count": null,
      "metadata": {
        "colab": {
          "base_uri": "https://localhost:8080/"
        },
        "id": "Y6DMDQ1dlCbb",
        "outputId": "10385507-b423-4b33-c83a-4b7da7473354"
      },
      "outputs": [
        {
          "data": {
            "text/plain": [
              "Product type               0\n",
              "SKU                        0\n",
              "Price                      0\n",
              "Availability               0\n",
              "Number of products sold    0\n",
              "Revenue generated          0\n",
              "Customer demographics      0\n",
              "Stock levels               0\n",
              "Lead times                 0\n",
              "Order quantities           0\n",
              "Shipping times             0\n",
              "Shipping carriers          0\n",
              "Shipping costs             0\n",
              "Supplier name              0\n",
              "Location                   0\n",
              "Lead time                  0\n",
              "Production volumes         0\n",
              "Manufacturing lead time    0\n",
              "Manufacturing costs        0\n",
              "Inspection results         0\n",
              "Defect rates               0\n",
              "Transportation modes       0\n",
              "Routes                     0\n",
              "Costs                      0\n",
              "dtype: int64"
            ]
          },
          "execution_count": 6,
          "metadata": {},
          "output_type": "execute_result"
        }
      ],
      "source": [
        "df.isnull().sum()"
      ]
    },
    {
      "cell_type": "code",
      "execution_count": null,
      "metadata": {
        "colab": {
          "base_uri": "https://localhost:8080/"
        },
        "id": "K4oaLOe8lRwN",
        "outputId": "28ae5d48-8d42-444b-8ca6-ff404200409d"
      },
      "outputs": [
        {
          "name": "stdout",
          "output_type": "stream",
          "text": [
            "<class 'pandas.core.frame.DataFrame'>\n",
            "RangeIndex: 100 entries, 0 to 99\n",
            "Data columns (total 24 columns):\n",
            " #   Column                   Non-Null Count  Dtype  \n",
            "---  ------                   --------------  -----  \n",
            " 0   Product type             100 non-null    object \n",
            " 1   SKU                      100 non-null    object \n",
            " 2   Price                    100 non-null    float64\n",
            " 3   Availability             100 non-null    int64  \n",
            " 4   Number of products sold  100 non-null    int64  \n",
            " 5   Revenue generated        100 non-null    float64\n",
            " 6   Customer demographics    100 non-null    object \n",
            " 7   Stock levels             100 non-null    int64  \n",
            " 8   Lead times               100 non-null    int64  \n",
            " 9   Order quantities         100 non-null    int64  \n",
            " 10  Shipping times           100 non-null    int64  \n",
            " 11  Shipping carriers        100 non-null    object \n",
            " 12  Shipping costs           100 non-null    float64\n",
            " 13  Supplier name            100 non-null    object \n",
            " 14  Location                 100 non-null    object \n",
            " 15  Lead time                100 non-null    int64  \n",
            " 16  Production volumes       100 non-null    int64  \n",
            " 17  Manufacturing lead time  100 non-null    int64  \n",
            " 18  Manufacturing costs      100 non-null    float64\n",
            " 19  Inspection results       100 non-null    object \n",
            " 20  Defect rates             100 non-null    float64\n",
            " 21  Transportation modes     100 non-null    object \n",
            " 22  Routes                   100 non-null    object \n",
            " 23  Costs                    100 non-null    float64\n",
            "dtypes: float64(6), int64(9), object(9)\n",
            "memory usage: 18.9+ KB\n"
          ]
        }
      ],
      "source": [
        "df.info()"
      ]
    },
    {
      "cell_type": "code",
      "execution_count": null,
      "metadata": {
        "colab": {
          "base_uri": "https://localhost:8080/",
          "height": 318
        },
        "id": "ReltQ-a5lXTW",
        "outputId": "cbad8eeb-c783-4db6-89f2-94d44e2499e1"
      },
      "outputs": [
        {
          "data": {
            "application/vnd.google.colaboratory.intrinsic+json": {
              "summary": "{\n  \"name\": \"df\",\n  \"rows\": 8,\n  \"fields\": [\n    {\n      \"column\": \"Price\",\n      \"properties\": {\n        \"dtype\": \"number\",\n        \"std\": 36.178427719199256,\n        \"min\": 1.6999760138659377,\n        \"max\": 100.0,\n        \"num_unique_values\": 8,\n        \"samples\": [\n          49.462461344643685,\n          51.239830500537565,\n          100.0\n        ],\n        \"semantic_type\": \"\",\n        \"description\": \"\"\n      }\n    },\n    {\n      \"column\": \"Availability\",\n      \"properties\": {\n        \"dtype\": \"number\",\n        \"std\": 36.108928667241095,\n        \"min\": 1.0,\n        \"max\": 100.0,\n        \"num_unique_values\": 7,\n        \"samples\": [\n          100.0,\n          48.4,\n          43.5\n        ],\n        \"semantic_type\": \"\",\n        \"description\": \"\"\n      }\n    },\n    {\n      \"column\": \"Number of products sold\",\n      \"properties\": {\n        \"dtype\": \"number\",\n        \"std\": 327.48283458043096,\n        \"min\": 8.0,\n        \"max\": 996.0,\n        \"num_unique_values\": 8,\n        \"samples\": [\n          460.99,\n          392.5,\n          100.0\n        ],\n        \"semantic_type\": \"\",\n        \"description\": \"\"\n      }\n    },\n    {\n      \"column\": \"Revenue generated\",\n      \"properties\": {\n        \"dtype\": \"number\",\n        \"std\": 3461.9143025218004,\n        \"min\": 100.0,\n        \"max\": 9866.465457979695,\n        \"num_unique_values\": 8,\n        \"samples\": [\n          5776.048187380086,\n          6006.352023397045,\n          100.0\n        ],\n        \"semantic_type\": \"\",\n        \"description\": \"\"\n      }\n    },\n    {\n      \"column\": \"Stock levels\",\n      \"properties\": {\n        \"dtype\": \"number\",\n        \"std\": 36.76043928850569,\n        \"min\": 0.0,\n        \"max\": 100.0,\n        \"num_unique_values\": 7,\n        \"samples\": [\n          100.0,\n          47.77,\n          47.5\n        ],\n        \"semantic_type\": \"\",\n        \"description\": \"\"\n      }\n    },\n    {\n      \"column\": \"Lead times\",\n      \"properties\": {\n        \"dtype\": \"number\",\n        \"std\": 31.445659508598304,\n        \"min\": 1.0,\n        \"max\": 100.0,\n        \"num_unique_values\": 8,\n        \"samples\": [\n          15.96,\n          17.0,\n          100.0\n        ],\n        \"semantic_type\": \"\",\n        \"description\": \"\"\n      }\n    },\n    {\n      \"column\": \"Order quantities\",\n      \"properties\": {\n        \"dtype\": \"number\",\n        \"std\": 34.90031961880063,\n        \"min\": 1.0,\n        \"max\": 100.0,\n        \"num_unique_values\": 8,\n        \"samples\": [\n          49.22,\n          52.0,\n          100.0\n        ],\n        \"semantic_type\": \"\",\n        \"description\": \"\"\n      }\n    },\n    {\n      \"column\": \"Shipping times\",\n      \"properties\": {\n        \"dtype\": \"number\",\n        \"std\": 33.59790329538675,\n        \"min\": 1.0,\n        \"max\": 100.0,\n        \"num_unique_values\": 8,\n        \"samples\": [\n          5.75,\n          6.0,\n          100.0\n        ],\n        \"semantic_type\": \"\",\n        \"description\": \"\"\n      }\n    },\n    {\n      \"column\": \"Shipping costs\",\n      \"properties\": {\n        \"dtype\": \"number\",\n        \"std\": 33.673787065784076,\n        \"min\": 1.0134865660958965,\n        \"max\": 100.0,\n        \"num_unique_values\": 8,\n        \"samples\": [\n          5.548149072019588,\n          5.320534017162109,\n          100.0\n        ],\n        \"semantic_type\": \"\",\n        \"description\": \"\"\n      }\n    },\n    {\n      \"column\": \"Lead time\",\n      \"properties\": {\n        \"dtype\": \"number\",\n        \"std\": 31.193757822982207,\n        \"min\": 1.0,\n        \"max\": 100.0,\n        \"num_unique_values\": 8,\n        \"samples\": [\n          17.08,\n          18.0,\n          100.0\n        ],\n        \"semantic_type\": \"\",\n        \"description\": \"\"\n      }\n    },\n    {\n      \"column\": \"Production volumes\",\n      \"properties\": {\n        \"dtype\": \"number\",\n        \"std\": 320.48503379791765,\n        \"min\": 100.0,\n        \"max\": 985.0,\n        \"num_unique_values\": 8,\n        \"samples\": [\n          567.84,\n          568.5,\n          100.0\n        ],\n        \"semantic_type\": \"\",\n        \"description\": \"\"\n      }\n    },\n    {\n      \"column\": \"Manufacturing lead time\",\n      \"properties\": {\n        \"dtype\": \"number\",\n        \"std\": 31.709047378574187,\n        \"min\": 1.0,\n        \"max\": 100.0,\n        \"num_unique_values\": 8,\n        \"samples\": [\n          14.77,\n          14.0,\n          100.0\n        ],\n        \"semantic_type\": \"\",\n        \"description\": \"\"\n      }\n    },\n    {\n      \"column\": \"Manufacturing costs\",\n      \"properties\": {\n        \"dtype\": \"number\",\n        \"std\": 35.56998659242405,\n        \"min\": 1.0850685695870688,\n        \"max\": 100.0,\n        \"num_unique_values\": 8,\n        \"samples\": [\n          47.26669324146992,\n          45.90562173883524,\n          100.0\n        ],\n        \"semantic_type\": \"\",\n        \"description\": \"\"\n      }\n    },\n    {\n      \"column\": \"Defect rates\",\n      \"properties\": {\n        \"dtype\": \"number\",\n        \"std\": 34.610152283680655,\n        \"min\": 0.0186075676310149,\n        \"max\": 100.0,\n        \"num_unique_values\": 8,\n        \"samples\": [\n          2.27715799273961,\n          2.1418626833498684,\n          100.0\n        ],\n        \"semantic_type\": \"\",\n        \"description\": \"\"\n      }\n    },\n    {\n      \"column\": \"Costs\",\n      \"properties\": {\n        \"dtype\": \"number\",\n        \"std\": 317.3892030688621,\n        \"min\": 100.0,\n        \"max\": 997.4134501331946,\n        \"num_unique_values\": 8,\n        \"samples\": [\n          529.2457821581411,\n          520.4304443246092,\n          100.0\n        ],\n        \"semantic_type\": \"\",\n        \"description\": \"\"\n      }\n    }\n  ]\n}",
              "type": "dataframe"
            },
            "text/html": [
              "\n",
              "  <div id=\"df-ac3f19ad-319a-4ab5-afd4-714ea7d5e4f4\" class=\"colab-df-container\">\n",
              "    <div>\n",
              "<style scoped>\n",
              "    .dataframe tbody tr th:only-of-type {\n",
              "        vertical-align: middle;\n",
              "    }\n",
              "\n",
              "    .dataframe tbody tr th {\n",
              "        vertical-align: top;\n",
              "    }\n",
              "\n",
              "    .dataframe thead th {\n",
              "        text-align: right;\n",
              "    }\n",
              "</style>\n",
              "<table border=\"1\" class=\"dataframe\">\n",
              "  <thead>\n",
              "    <tr style=\"text-align: right;\">\n",
              "      <th></th>\n",
              "      <th>Price</th>\n",
              "      <th>Availability</th>\n",
              "      <th>Number of products sold</th>\n",
              "      <th>Revenue generated</th>\n",
              "      <th>Stock levels</th>\n",
              "      <th>Lead times</th>\n",
              "      <th>Order quantities</th>\n",
              "      <th>Shipping times</th>\n",
              "      <th>Shipping costs</th>\n",
              "      <th>Lead time</th>\n",
              "      <th>Production volumes</th>\n",
              "      <th>Manufacturing lead time</th>\n",
              "      <th>Manufacturing costs</th>\n",
              "      <th>Defect rates</th>\n",
              "      <th>Costs</th>\n",
              "    </tr>\n",
              "  </thead>\n",
              "  <tbody>\n",
              "    <tr>\n",
              "      <th>count</th>\n",
              "      <td>100.000000</td>\n",
              "      <td>100.000000</td>\n",
              "      <td>100.000000</td>\n",
              "      <td>100.000000</td>\n",
              "      <td>100.000000</td>\n",
              "      <td>100.000000</td>\n",
              "      <td>100.000000</td>\n",
              "      <td>100.000000</td>\n",
              "      <td>100.000000</td>\n",
              "      <td>100.000000</td>\n",
              "      <td>100.000000</td>\n",
              "      <td>100.00000</td>\n",
              "      <td>100.000000</td>\n",
              "      <td>100.000000</td>\n",
              "      <td>100.000000</td>\n",
              "    </tr>\n",
              "    <tr>\n",
              "      <th>mean</th>\n",
              "      <td>49.462461</td>\n",
              "      <td>48.400000</td>\n",
              "      <td>460.990000</td>\n",
              "      <td>5776.048187</td>\n",
              "      <td>47.770000</td>\n",
              "      <td>15.960000</td>\n",
              "      <td>49.220000</td>\n",
              "      <td>5.750000</td>\n",
              "      <td>5.548149</td>\n",
              "      <td>17.080000</td>\n",
              "      <td>567.840000</td>\n",
              "      <td>14.77000</td>\n",
              "      <td>47.266693</td>\n",
              "      <td>2.277158</td>\n",
              "      <td>529.245782</td>\n",
              "    </tr>\n",
              "    <tr>\n",
              "      <th>std</th>\n",
              "      <td>31.168193</td>\n",
              "      <td>30.743317</td>\n",
              "      <td>303.780074</td>\n",
              "      <td>2732.841744</td>\n",
              "      <td>31.369372</td>\n",
              "      <td>8.785801</td>\n",
              "      <td>26.784429</td>\n",
              "      <td>2.724283</td>\n",
              "      <td>2.651376</td>\n",
              "      <td>8.846251</td>\n",
              "      <td>263.046861</td>\n",
              "      <td>8.91243</td>\n",
              "      <td>28.982841</td>\n",
              "      <td>1.461366</td>\n",
              "      <td>258.301696</td>\n",
              "    </tr>\n",
              "    <tr>\n",
              "      <th>min</th>\n",
              "      <td>1.699976</td>\n",
              "      <td>1.000000</td>\n",
              "      <td>8.000000</td>\n",
              "      <td>1061.618523</td>\n",
              "      <td>0.000000</td>\n",
              "      <td>1.000000</td>\n",
              "      <td>1.000000</td>\n",
              "      <td>1.000000</td>\n",
              "      <td>1.013487</td>\n",
              "      <td>1.000000</td>\n",
              "      <td>104.000000</td>\n",
              "      <td>1.00000</td>\n",
              "      <td>1.085069</td>\n",
              "      <td>0.018608</td>\n",
              "      <td>103.916248</td>\n",
              "    </tr>\n",
              "    <tr>\n",
              "      <th>25%</th>\n",
              "      <td>19.597823</td>\n",
              "      <td>22.750000</td>\n",
              "      <td>184.250000</td>\n",
              "      <td>2812.847151</td>\n",
              "      <td>16.750000</td>\n",
              "      <td>8.000000</td>\n",
              "      <td>26.000000</td>\n",
              "      <td>3.750000</td>\n",
              "      <td>3.540248</td>\n",
              "      <td>10.000000</td>\n",
              "      <td>352.000000</td>\n",
              "      <td>7.00000</td>\n",
              "      <td>22.983299</td>\n",
              "      <td>1.009650</td>\n",
              "      <td>318.778455</td>\n",
              "    </tr>\n",
              "    <tr>\n",
              "      <th>50%</th>\n",
              "      <td>51.239831</td>\n",
              "      <td>43.500000</td>\n",
              "      <td>392.500000</td>\n",
              "      <td>6006.352023</td>\n",
              "      <td>47.500000</td>\n",
              "      <td>17.000000</td>\n",
              "      <td>52.000000</td>\n",
              "      <td>6.000000</td>\n",
              "      <td>5.320534</td>\n",
              "      <td>18.000000</td>\n",
              "      <td>568.500000</td>\n",
              "      <td>14.00000</td>\n",
              "      <td>45.905622</td>\n",
              "      <td>2.141863</td>\n",
              "      <td>520.430444</td>\n",
              "    </tr>\n",
              "    <tr>\n",
              "      <th>75%</th>\n",
              "      <td>77.198228</td>\n",
              "      <td>75.000000</td>\n",
              "      <td>704.250000</td>\n",
              "      <td>8253.976921</td>\n",
              "      <td>73.000000</td>\n",
              "      <td>24.000000</td>\n",
              "      <td>71.250000</td>\n",
              "      <td>8.000000</td>\n",
              "      <td>7.601695</td>\n",
              "      <td>25.000000</td>\n",
              "      <td>797.000000</td>\n",
              "      <td>23.00000</td>\n",
              "      <td>68.621026</td>\n",
              "      <td>3.563995</td>\n",
              "      <td>763.078231</td>\n",
              "    </tr>\n",
              "    <tr>\n",
              "      <th>max</th>\n",
              "      <td>99.171329</td>\n",
              "      <td>100.000000</td>\n",
              "      <td>996.000000</td>\n",
              "      <td>9866.465458</td>\n",
              "      <td>100.000000</td>\n",
              "      <td>30.000000</td>\n",
              "      <td>96.000000</td>\n",
              "      <td>10.000000</td>\n",
              "      <td>9.929816</td>\n",
              "      <td>30.000000</td>\n",
              "      <td>985.000000</td>\n",
              "      <td>30.00000</td>\n",
              "      <td>99.466109</td>\n",
              "      <td>4.939255</td>\n",
              "      <td>997.413450</td>\n",
              "    </tr>\n",
              "  </tbody>\n",
              "</table>\n",
              "</div>\n",
              "    <div class=\"colab-df-buttons\">\n",
              "\n",
              "  <div class=\"colab-df-container\">\n",
              "    <button class=\"colab-df-convert\" onclick=\"convertToInteractive('df-ac3f19ad-319a-4ab5-afd4-714ea7d5e4f4')\"\n",
              "            title=\"Convert this dataframe to an interactive table.\"\n",
              "            style=\"display:none;\">\n",
              "\n",
              "  <svg xmlns=\"http://www.w3.org/2000/svg\" height=\"24px\" viewBox=\"0 -960 960 960\">\n",
              "    <path d=\"M120-120v-720h720v720H120Zm60-500h600v-160H180v160Zm220 220h160v-160H400v160Zm0 220h160v-160H400v160ZM180-400h160v-160H180v160Zm440 0h160v-160H620v160ZM180-180h160v-160H180v160Zm440 0h160v-160H620v160Z\"/>\n",
              "  </svg>\n",
              "    </button>\n",
              "\n",
              "  <style>\n",
              "    .colab-df-container {\n",
              "      display:flex;\n",
              "      gap: 12px;\n",
              "    }\n",
              "\n",
              "    .colab-df-convert {\n",
              "      background-color: #E8F0FE;\n",
              "      border: none;\n",
              "      border-radius: 50%;\n",
              "      cursor: pointer;\n",
              "      display: none;\n",
              "      fill: #1967D2;\n",
              "      height: 32px;\n",
              "      padding: 0 0 0 0;\n",
              "      width: 32px;\n",
              "    }\n",
              "\n",
              "    .colab-df-convert:hover {\n",
              "      background-color: #E2EBFA;\n",
              "      box-shadow: 0px 1px 2px rgba(60, 64, 67, 0.3), 0px 1px 3px 1px rgba(60, 64, 67, 0.15);\n",
              "      fill: #174EA6;\n",
              "    }\n",
              "\n",
              "    .colab-df-buttons div {\n",
              "      margin-bottom: 4px;\n",
              "    }\n",
              "\n",
              "    [theme=dark] .colab-df-convert {\n",
              "      background-color: #3B4455;\n",
              "      fill: #D2E3FC;\n",
              "    }\n",
              "\n",
              "    [theme=dark] .colab-df-convert:hover {\n",
              "      background-color: #434B5C;\n",
              "      box-shadow: 0px 1px 3px 1px rgba(0, 0, 0, 0.15);\n",
              "      filter: drop-shadow(0px 1px 2px rgba(0, 0, 0, 0.3));\n",
              "      fill: #FFFFFF;\n",
              "    }\n",
              "  </style>\n",
              "\n",
              "    <script>\n",
              "      const buttonEl =\n",
              "        document.querySelector('#df-ac3f19ad-319a-4ab5-afd4-714ea7d5e4f4 button.colab-df-convert');\n",
              "      buttonEl.style.display =\n",
              "        google.colab.kernel.accessAllowed ? 'block' : 'none';\n",
              "\n",
              "      async function convertToInteractive(key) {\n",
              "        const element = document.querySelector('#df-ac3f19ad-319a-4ab5-afd4-714ea7d5e4f4');\n",
              "        const dataTable =\n",
              "          await google.colab.kernel.invokeFunction('convertToInteractive',\n",
              "                                                    [key], {});\n",
              "        if (!dataTable) return;\n",
              "\n",
              "        const docLinkHtml = 'Like what you see? Visit the ' +\n",
              "          '<a target=\"_blank\" href=https://colab.research.google.com/notebooks/data_table.ipynb>data table notebook</a>'\n",
              "          + ' to learn more about interactive tables.';\n",
              "        element.innerHTML = '';\n",
              "        dataTable['output_type'] = 'display_data';\n",
              "        await google.colab.output.renderOutput(dataTable, element);\n",
              "        const docLink = document.createElement('div');\n",
              "        docLink.innerHTML = docLinkHtml;\n",
              "        element.appendChild(docLink);\n",
              "      }\n",
              "    </script>\n",
              "  </div>\n",
              "\n",
              "\n",
              "<div id=\"df-12c90529-4d40-4dc3-929b-ef2aab07704c\">\n",
              "  <button class=\"colab-df-quickchart\" onclick=\"quickchart('df-12c90529-4d40-4dc3-929b-ef2aab07704c')\"\n",
              "            title=\"Suggest charts\"\n",
              "            style=\"display:none;\">\n",
              "\n",
              "<svg xmlns=\"http://www.w3.org/2000/svg\" height=\"24px\"viewBox=\"0 0 24 24\"\n",
              "     width=\"24px\">\n",
              "    <g>\n",
              "        <path d=\"M19 3H5c-1.1 0-2 .9-2 2v14c0 1.1.9 2 2 2h14c1.1 0 2-.9 2-2V5c0-1.1-.9-2-2-2zM9 17H7v-7h2v7zm4 0h-2V7h2v10zm4 0h-2v-4h2v4z\"/>\n",
              "    </g>\n",
              "</svg>\n",
              "  </button>\n",
              "\n",
              "<style>\n",
              "  .colab-df-quickchart {\n",
              "      --bg-color: #E8F0FE;\n",
              "      --fill-color: #1967D2;\n",
              "      --hover-bg-color: #E2EBFA;\n",
              "      --hover-fill-color: #174EA6;\n",
              "      --disabled-fill-color: #AAA;\n",
              "      --disabled-bg-color: #DDD;\n",
              "  }\n",
              "\n",
              "  [theme=dark] .colab-df-quickchart {\n",
              "      --bg-color: #3B4455;\n",
              "      --fill-color: #D2E3FC;\n",
              "      --hover-bg-color: #434B5C;\n",
              "      --hover-fill-color: #FFFFFF;\n",
              "      --disabled-bg-color: #3B4455;\n",
              "      --disabled-fill-color: #666;\n",
              "  }\n",
              "\n",
              "  .colab-df-quickchart {\n",
              "    background-color: var(--bg-color);\n",
              "    border: none;\n",
              "    border-radius: 50%;\n",
              "    cursor: pointer;\n",
              "    display: none;\n",
              "    fill: var(--fill-color);\n",
              "    height: 32px;\n",
              "    padding: 0;\n",
              "    width: 32px;\n",
              "  }\n",
              "\n",
              "  .colab-df-quickchart:hover {\n",
              "    background-color: var(--hover-bg-color);\n",
              "    box-shadow: 0 1px 2px rgba(60, 64, 67, 0.3), 0 1px 3px 1px rgba(60, 64, 67, 0.15);\n",
              "    fill: var(--button-hover-fill-color);\n",
              "  }\n",
              "\n",
              "  .colab-df-quickchart-complete:disabled,\n",
              "  .colab-df-quickchart-complete:disabled:hover {\n",
              "    background-color: var(--disabled-bg-color);\n",
              "    fill: var(--disabled-fill-color);\n",
              "    box-shadow: none;\n",
              "  }\n",
              "\n",
              "  .colab-df-spinner {\n",
              "    border: 2px solid var(--fill-color);\n",
              "    border-color: transparent;\n",
              "    border-bottom-color: var(--fill-color);\n",
              "    animation:\n",
              "      spin 1s steps(1) infinite;\n",
              "  }\n",
              "\n",
              "  @keyframes spin {\n",
              "    0% {\n",
              "      border-color: transparent;\n",
              "      border-bottom-color: var(--fill-color);\n",
              "      border-left-color: var(--fill-color);\n",
              "    }\n",
              "    20% {\n",
              "      border-color: transparent;\n",
              "      border-left-color: var(--fill-color);\n",
              "      border-top-color: var(--fill-color);\n",
              "    }\n",
              "    30% {\n",
              "      border-color: transparent;\n",
              "      border-left-color: var(--fill-color);\n",
              "      border-top-color: var(--fill-color);\n",
              "      border-right-color: var(--fill-color);\n",
              "    }\n",
              "    40% {\n",
              "      border-color: transparent;\n",
              "      border-right-color: var(--fill-color);\n",
              "      border-top-color: var(--fill-color);\n",
              "    }\n",
              "    60% {\n",
              "      border-color: transparent;\n",
              "      border-right-color: var(--fill-color);\n",
              "    }\n",
              "    80% {\n",
              "      border-color: transparent;\n",
              "      border-right-color: var(--fill-color);\n",
              "      border-bottom-color: var(--fill-color);\n",
              "    }\n",
              "    90% {\n",
              "      border-color: transparent;\n",
              "      border-bottom-color: var(--fill-color);\n",
              "    }\n",
              "  }\n",
              "</style>\n",
              "\n",
              "  <script>\n",
              "    async function quickchart(key) {\n",
              "      const quickchartButtonEl =\n",
              "        document.querySelector('#' + key + ' button');\n",
              "      quickchartButtonEl.disabled = true;  // To prevent multiple clicks.\n",
              "      quickchartButtonEl.classList.add('colab-df-spinner');\n",
              "      try {\n",
              "        const charts = await google.colab.kernel.invokeFunction(\n",
              "            'suggestCharts', [key], {});\n",
              "      } catch (error) {\n",
              "        console.error('Error during call to suggestCharts:', error);\n",
              "      }\n",
              "      quickchartButtonEl.classList.remove('colab-df-spinner');\n",
              "      quickchartButtonEl.classList.add('colab-df-quickchart-complete');\n",
              "    }\n",
              "    (() => {\n",
              "      let quickchartButtonEl =\n",
              "        document.querySelector('#df-12c90529-4d40-4dc3-929b-ef2aab07704c button');\n",
              "      quickchartButtonEl.style.display =\n",
              "        google.colab.kernel.accessAllowed ? 'block' : 'none';\n",
              "    })();\n",
              "  </script>\n",
              "</div>\n",
              "    </div>\n",
              "  </div>\n"
            ],
            "text/plain": [
              "            Price  Availability  Number of products sold  Revenue generated  \\\n",
              "count  100.000000    100.000000               100.000000         100.000000   \n",
              "mean    49.462461     48.400000               460.990000        5776.048187   \n",
              "std     31.168193     30.743317               303.780074        2732.841744   \n",
              "min      1.699976      1.000000                 8.000000        1061.618523   \n",
              "25%     19.597823     22.750000               184.250000        2812.847151   \n",
              "50%     51.239831     43.500000               392.500000        6006.352023   \n",
              "75%     77.198228     75.000000               704.250000        8253.976921   \n",
              "max     99.171329    100.000000               996.000000        9866.465458   \n",
              "\n",
              "       Stock levels  Lead times  Order quantities  Shipping times  \\\n",
              "count    100.000000  100.000000        100.000000      100.000000   \n",
              "mean      47.770000   15.960000         49.220000        5.750000   \n",
              "std       31.369372    8.785801         26.784429        2.724283   \n",
              "min        0.000000    1.000000          1.000000        1.000000   \n",
              "25%       16.750000    8.000000         26.000000        3.750000   \n",
              "50%       47.500000   17.000000         52.000000        6.000000   \n",
              "75%       73.000000   24.000000         71.250000        8.000000   \n",
              "max      100.000000   30.000000         96.000000       10.000000   \n",
              "\n",
              "       Shipping costs   Lead time  Production volumes  \\\n",
              "count      100.000000  100.000000          100.000000   \n",
              "mean         5.548149   17.080000          567.840000   \n",
              "std          2.651376    8.846251          263.046861   \n",
              "min          1.013487    1.000000          104.000000   \n",
              "25%          3.540248   10.000000          352.000000   \n",
              "50%          5.320534   18.000000          568.500000   \n",
              "75%          7.601695   25.000000          797.000000   \n",
              "max          9.929816   30.000000          985.000000   \n",
              "\n",
              "       Manufacturing lead time  Manufacturing costs  Defect rates       Costs  \n",
              "count                100.00000           100.000000    100.000000  100.000000  \n",
              "mean                  14.77000            47.266693      2.277158  529.245782  \n",
              "std                    8.91243            28.982841      1.461366  258.301696  \n",
              "min                    1.00000             1.085069      0.018608  103.916248  \n",
              "25%                    7.00000            22.983299      1.009650  318.778455  \n",
              "50%                   14.00000            45.905622      2.141863  520.430444  \n",
              "75%                   23.00000            68.621026      3.563995  763.078231  \n",
              "max                   30.00000            99.466109      4.939255  997.413450  "
            ]
          },
          "execution_count": 8,
          "metadata": {},
          "output_type": "execute_result"
        }
      ],
      "source": [
        "df.describe()"
      ]
    },
    {
      "cell_type": "markdown",
      "metadata": {
        "id": "zBq-uPVH7hxY"
      },
      "source": [
        "EXPLORATORY DATA ANALYSIS"
      ]
    },
    {
      "cell_type": "code",
      "execution_count": null,
      "metadata": {
        "id": "55CjDy1PlfzQ"
      },
      "outputs": [],
      "source": [
        "num_col=[]\n",
        "cat_col=[]"
      ]
    },
    {
      "cell_type": "code",
      "execution_count": null,
      "metadata": {
        "id": "gGwfzXBjnL7K"
      },
      "outputs": [],
      "source": [
        "for column in df.columns:\n",
        "  if df[column].dtype=='O':\n",
        "    cat_col.append(column)\n",
        "  else:\n",
        "    num_col.append(column)"
      ]
    },
    {
      "cell_type": "code",
      "execution_count": null,
      "metadata": {
        "colab": {
          "base_uri": "https://localhost:8080/"
        },
        "id": "y0SSiYrOoGb1",
        "outputId": "88e605ef-2887-4c1b-8a8e-9b4bb06a8bac"
      },
      "outputs": [
        {
          "data": {
            "text/plain": [
              "['Product type',\n",
              " 'SKU',\n",
              " 'Customer demographics',\n",
              " 'Shipping carriers',\n",
              " 'Supplier name',\n",
              " 'Location',\n",
              " 'Inspection results',\n",
              " 'Transportation modes',\n",
              " 'Routes']"
            ]
          },
          "execution_count": 11,
          "metadata": {},
          "output_type": "execute_result"
        }
      ],
      "source": [
        "cat_col"
      ]
    },
    {
      "cell_type": "code",
      "execution_count": null,
      "metadata": {
        "id": "Nw6CjqoP9UNs"
      },
      "outputs": [],
      "source": [
        "from sklearn.preprocessing import LabelEncoder\n",
        "\n",
        "encoder = LabelEncoder()\n",
        "\n",
        "for col in cat_col:\n",
        "    df[col] = encoder.fit_transform(df[col])\n"
      ]
    },
    {
      "cell_type": "code",
      "execution_count": null,
      "metadata": {
        "colab": {
          "base_uri": "https://localhost:8080/"
        },
        "id": "P6Xkie0MoGYh",
        "outputId": "2500cc59-a265-4e16-ee72-b39e86f1784a"
      },
      "outputs": [
        {
          "data": {
            "text/plain": [
              "['Price',\n",
              " 'Availability',\n",
              " 'Number of products sold',\n",
              " 'Revenue generated',\n",
              " 'Stock levels',\n",
              " 'Lead times',\n",
              " 'Order quantities',\n",
              " 'Shipping times',\n",
              " 'Shipping costs',\n",
              " 'Lead time',\n",
              " 'Production volumes',\n",
              " 'Manufacturing lead time',\n",
              " 'Manufacturing costs',\n",
              " 'Defect rates',\n",
              " 'Costs']"
            ]
          },
          "execution_count": 13,
          "metadata": {},
          "output_type": "execute_result"
        }
      ],
      "source": [
        "num_col"
      ]
    },
    {
      "cell_type": "code",
      "execution_count": null,
      "metadata": {
        "colab": {
          "base_uri": "https://localhost:8080/"
        },
        "id": "EaOYqzEj6cp2",
        "outputId": "eaf05307-e45d-4cc7-9907-127dc48007b1"
      },
      "outputs": [
        {
          "data": {
            "text/plain": [
              "(100, 24)"
            ]
          },
          "execution_count": 14,
          "metadata": {},
          "output_type": "execute_result"
        }
      ],
      "source": [
        "df.shape"
      ]
    },
    {
      "cell_type": "code",
      "execution_count": null,
      "metadata": {
        "colab": {
          "base_uri": "https://localhost:8080/",
          "height": 288
        },
        "id": "fZFDZyDOBwZz",
        "outputId": "bae5f768-1fb5-4a72-f3fe-3b515790ef31"
      },
      "outputs": [
        {
          "data": {
            "application/vnd.google.colaboratory.intrinsic+json": {
              "type": "dataframe",
              "variable_name": "df"
            },
            "text/html": [
              "\n",
              "  <div id=\"df-e7b9cada-e80f-4852-b76f-26dec85a3080\" class=\"colab-df-container\">\n",
              "    <div>\n",
              "<style scoped>\n",
              "    .dataframe tbody tr th:only-of-type {\n",
              "        vertical-align: middle;\n",
              "    }\n",
              "\n",
              "    .dataframe tbody tr th {\n",
              "        vertical-align: top;\n",
              "    }\n",
              "\n",
              "    .dataframe thead th {\n",
              "        text-align: right;\n",
              "    }\n",
              "</style>\n",
              "<table border=\"1\" class=\"dataframe\">\n",
              "  <thead>\n",
              "    <tr style=\"text-align: right;\">\n",
              "      <th></th>\n",
              "      <th>Product type</th>\n",
              "      <th>SKU</th>\n",
              "      <th>Price</th>\n",
              "      <th>Availability</th>\n",
              "      <th>Number of products sold</th>\n",
              "      <th>Revenue generated</th>\n",
              "      <th>Customer demographics</th>\n",
              "      <th>Stock levels</th>\n",
              "      <th>Lead times</th>\n",
              "      <th>Order quantities</th>\n",
              "      <th>...</th>\n",
              "      <th>Location</th>\n",
              "      <th>Lead time</th>\n",
              "      <th>Production volumes</th>\n",
              "      <th>Manufacturing lead time</th>\n",
              "      <th>Manufacturing costs</th>\n",
              "      <th>Inspection results</th>\n",
              "      <th>Defect rates</th>\n",
              "      <th>Transportation modes</th>\n",
              "      <th>Routes</th>\n",
              "      <th>Costs</th>\n",
              "    </tr>\n",
              "  </thead>\n",
              "  <tbody>\n",
              "    <tr>\n",
              "      <th>0</th>\n",
              "      <td>1</td>\n",
              "      <td>0</td>\n",
              "      <td>69.808006</td>\n",
              "      <td>55</td>\n",
              "      <td>802</td>\n",
              "      <td>8661.996792</td>\n",
              "      <td>2</td>\n",
              "      <td>58</td>\n",
              "      <td>7</td>\n",
              "      <td>96</td>\n",
              "      <td>...</td>\n",
              "      <td>4</td>\n",
              "      <td>29</td>\n",
              "      <td>215</td>\n",
              "      <td>29</td>\n",
              "      <td>46.279879</td>\n",
              "      <td>2</td>\n",
              "      <td>0.226410</td>\n",
              "      <td>2</td>\n",
              "      <td>1</td>\n",
              "      <td>187.752075</td>\n",
              "    </tr>\n",
              "    <tr>\n",
              "      <th>1</th>\n",
              "      <td>2</td>\n",
              "      <td>1</td>\n",
              "      <td>14.843523</td>\n",
              "      <td>95</td>\n",
              "      <td>736</td>\n",
              "      <td>7460.900065</td>\n",
              "      <td>0</td>\n",
              "      <td>53</td>\n",
              "      <td>30</td>\n",
              "      <td>37</td>\n",
              "      <td>...</td>\n",
              "      <td>4</td>\n",
              "      <td>23</td>\n",
              "      <td>517</td>\n",
              "      <td>30</td>\n",
              "      <td>33.616769</td>\n",
              "      <td>2</td>\n",
              "      <td>4.854068</td>\n",
              "      <td>2</td>\n",
              "      <td>1</td>\n",
              "      <td>503.065579</td>\n",
              "    </tr>\n",
              "    <tr>\n",
              "      <th>2</th>\n",
              "      <td>1</td>\n",
              "      <td>12</td>\n",
              "      <td>11.319683</td>\n",
              "      <td>34</td>\n",
              "      <td>8</td>\n",
              "      <td>9577.749626</td>\n",
              "      <td>3</td>\n",
              "      <td>1</td>\n",
              "      <td>10</td>\n",
              "      <td>88</td>\n",
              "      <td>...</td>\n",
              "      <td>4</td>\n",
              "      <td>12</td>\n",
              "      <td>971</td>\n",
              "      <td>27</td>\n",
              "      <td>30.688019</td>\n",
              "      <td>2</td>\n",
              "      <td>4.580593</td>\n",
              "      <td>0</td>\n",
              "      <td>2</td>\n",
              "      <td>141.920282</td>\n",
              "    </tr>\n",
              "    <tr>\n",
              "      <th>3</th>\n",
              "      <td>2</td>\n",
              "      <td>23</td>\n",
              "      <td>61.163343</td>\n",
              "      <td>68</td>\n",
              "      <td>83</td>\n",
              "      <td>7766.836426</td>\n",
              "      <td>2</td>\n",
              "      <td>23</td>\n",
              "      <td>13</td>\n",
              "      <td>59</td>\n",
              "      <td>...</td>\n",
              "      <td>3</td>\n",
              "      <td>24</td>\n",
              "      <td>937</td>\n",
              "      <td>18</td>\n",
              "      <td>35.624741</td>\n",
              "      <td>0</td>\n",
              "      <td>4.746649</td>\n",
              "      <td>1</td>\n",
              "      <td>0</td>\n",
              "      <td>254.776159</td>\n",
              "    </tr>\n",
              "    <tr>\n",
              "      <th>4</th>\n",
              "      <td>2</td>\n",
              "      <td>34</td>\n",
              "      <td>4.805496</td>\n",
              "      <td>26</td>\n",
              "      <td>871</td>\n",
              "      <td>2686.505152</td>\n",
              "      <td>2</td>\n",
              "      <td>5</td>\n",
              "      <td>3</td>\n",
              "      <td>56</td>\n",
              "      <td>...</td>\n",
              "      <td>2</td>\n",
              "      <td>5</td>\n",
              "      <td>414</td>\n",
              "      <td>3</td>\n",
              "      <td>92.065161</td>\n",
              "      <td>0</td>\n",
              "      <td>3.145580</td>\n",
              "      <td>0</td>\n",
              "      <td>0</td>\n",
              "      <td>923.440632</td>\n",
              "    </tr>\n",
              "  </tbody>\n",
              "</table>\n",
              "<p>5 rows × 24 columns</p>\n",
              "</div>\n",
              "    <div class=\"colab-df-buttons\">\n",
              "\n",
              "  <div class=\"colab-df-container\">\n",
              "    <button class=\"colab-df-convert\" onclick=\"convertToInteractive('df-e7b9cada-e80f-4852-b76f-26dec85a3080')\"\n",
              "            title=\"Convert this dataframe to an interactive table.\"\n",
              "            style=\"display:none;\">\n",
              "\n",
              "  <svg xmlns=\"http://www.w3.org/2000/svg\" height=\"24px\" viewBox=\"0 -960 960 960\">\n",
              "    <path d=\"M120-120v-720h720v720H120Zm60-500h600v-160H180v160Zm220 220h160v-160H400v160Zm0 220h160v-160H400v160ZM180-400h160v-160H180v160Zm440 0h160v-160H620v160ZM180-180h160v-160H180v160Zm440 0h160v-160H620v160Z\"/>\n",
              "  </svg>\n",
              "    </button>\n",
              "\n",
              "  <style>\n",
              "    .colab-df-container {\n",
              "      display:flex;\n",
              "      gap: 12px;\n",
              "    }\n",
              "\n",
              "    .colab-df-convert {\n",
              "      background-color: #E8F0FE;\n",
              "      border: none;\n",
              "      border-radius: 50%;\n",
              "      cursor: pointer;\n",
              "      display: none;\n",
              "      fill: #1967D2;\n",
              "      height: 32px;\n",
              "      padding: 0 0 0 0;\n",
              "      width: 32px;\n",
              "    }\n",
              "\n",
              "    .colab-df-convert:hover {\n",
              "      background-color: #E2EBFA;\n",
              "      box-shadow: 0px 1px 2px rgba(60, 64, 67, 0.3), 0px 1px 3px 1px rgba(60, 64, 67, 0.15);\n",
              "      fill: #174EA6;\n",
              "    }\n",
              "\n",
              "    .colab-df-buttons div {\n",
              "      margin-bottom: 4px;\n",
              "    }\n",
              "\n",
              "    [theme=dark] .colab-df-convert {\n",
              "      background-color: #3B4455;\n",
              "      fill: #D2E3FC;\n",
              "    }\n",
              "\n",
              "    [theme=dark] .colab-df-convert:hover {\n",
              "      background-color: #434B5C;\n",
              "      box-shadow: 0px 1px 3px 1px rgba(0, 0, 0, 0.15);\n",
              "      filter: drop-shadow(0px 1px 2px rgba(0, 0, 0, 0.3));\n",
              "      fill: #FFFFFF;\n",
              "    }\n",
              "  </style>\n",
              "\n",
              "    <script>\n",
              "      const buttonEl =\n",
              "        document.querySelector('#df-e7b9cada-e80f-4852-b76f-26dec85a3080 button.colab-df-convert');\n",
              "      buttonEl.style.display =\n",
              "        google.colab.kernel.accessAllowed ? 'block' : 'none';\n",
              "\n",
              "      async function convertToInteractive(key) {\n",
              "        const element = document.querySelector('#df-e7b9cada-e80f-4852-b76f-26dec85a3080');\n",
              "        const dataTable =\n",
              "          await google.colab.kernel.invokeFunction('convertToInteractive',\n",
              "                                                    [key], {});\n",
              "        if (!dataTable) return;\n",
              "\n",
              "        const docLinkHtml = 'Like what you see? Visit the ' +\n",
              "          '<a target=\"_blank\" href=https://colab.research.google.com/notebooks/data_table.ipynb>data table notebook</a>'\n",
              "          + ' to learn more about interactive tables.';\n",
              "        element.innerHTML = '';\n",
              "        dataTable['output_type'] = 'display_data';\n",
              "        await google.colab.output.renderOutput(dataTable, element);\n",
              "        const docLink = document.createElement('div');\n",
              "        docLink.innerHTML = docLinkHtml;\n",
              "        element.appendChild(docLink);\n",
              "      }\n",
              "    </script>\n",
              "  </div>\n",
              "\n",
              "\n",
              "<div id=\"df-0f3f320f-6727-4ce6-b977-4b5e4707fdd4\">\n",
              "  <button class=\"colab-df-quickchart\" onclick=\"quickchart('df-0f3f320f-6727-4ce6-b977-4b5e4707fdd4')\"\n",
              "            title=\"Suggest charts\"\n",
              "            style=\"display:none;\">\n",
              "\n",
              "<svg xmlns=\"http://www.w3.org/2000/svg\" height=\"24px\"viewBox=\"0 0 24 24\"\n",
              "     width=\"24px\">\n",
              "    <g>\n",
              "        <path d=\"M19 3H5c-1.1 0-2 .9-2 2v14c0 1.1.9 2 2 2h14c1.1 0 2-.9 2-2V5c0-1.1-.9-2-2-2zM9 17H7v-7h2v7zm4 0h-2V7h2v10zm4 0h-2v-4h2v4z\"/>\n",
              "    </g>\n",
              "</svg>\n",
              "  </button>\n",
              "\n",
              "<style>\n",
              "  .colab-df-quickchart {\n",
              "      --bg-color: #E8F0FE;\n",
              "      --fill-color: #1967D2;\n",
              "      --hover-bg-color: #E2EBFA;\n",
              "      --hover-fill-color: #174EA6;\n",
              "      --disabled-fill-color: #AAA;\n",
              "      --disabled-bg-color: #DDD;\n",
              "  }\n",
              "\n",
              "  [theme=dark] .colab-df-quickchart {\n",
              "      --bg-color: #3B4455;\n",
              "      --fill-color: #D2E3FC;\n",
              "      --hover-bg-color: #434B5C;\n",
              "      --hover-fill-color: #FFFFFF;\n",
              "      --disabled-bg-color: #3B4455;\n",
              "      --disabled-fill-color: #666;\n",
              "  }\n",
              "\n",
              "  .colab-df-quickchart {\n",
              "    background-color: var(--bg-color);\n",
              "    border: none;\n",
              "    border-radius: 50%;\n",
              "    cursor: pointer;\n",
              "    display: none;\n",
              "    fill: var(--fill-color);\n",
              "    height: 32px;\n",
              "    padding: 0;\n",
              "    width: 32px;\n",
              "  }\n",
              "\n",
              "  .colab-df-quickchart:hover {\n",
              "    background-color: var(--hover-bg-color);\n",
              "    box-shadow: 0 1px 2px rgba(60, 64, 67, 0.3), 0 1px 3px 1px rgba(60, 64, 67, 0.15);\n",
              "    fill: var(--button-hover-fill-color);\n",
              "  }\n",
              "\n",
              "  .colab-df-quickchart-complete:disabled,\n",
              "  .colab-df-quickchart-complete:disabled:hover {\n",
              "    background-color: var(--disabled-bg-color);\n",
              "    fill: var(--disabled-fill-color);\n",
              "    box-shadow: none;\n",
              "  }\n",
              "\n",
              "  .colab-df-spinner {\n",
              "    border: 2px solid var(--fill-color);\n",
              "    border-color: transparent;\n",
              "    border-bottom-color: var(--fill-color);\n",
              "    animation:\n",
              "      spin 1s steps(1) infinite;\n",
              "  }\n",
              "\n",
              "  @keyframes spin {\n",
              "    0% {\n",
              "      border-color: transparent;\n",
              "      border-bottom-color: var(--fill-color);\n",
              "      border-left-color: var(--fill-color);\n",
              "    }\n",
              "    20% {\n",
              "      border-color: transparent;\n",
              "      border-left-color: var(--fill-color);\n",
              "      border-top-color: var(--fill-color);\n",
              "    }\n",
              "    30% {\n",
              "      border-color: transparent;\n",
              "      border-left-color: var(--fill-color);\n",
              "      border-top-color: var(--fill-color);\n",
              "      border-right-color: var(--fill-color);\n",
              "    }\n",
              "    40% {\n",
              "      border-color: transparent;\n",
              "      border-right-color: var(--fill-color);\n",
              "      border-top-color: var(--fill-color);\n",
              "    }\n",
              "    60% {\n",
              "      border-color: transparent;\n",
              "      border-right-color: var(--fill-color);\n",
              "    }\n",
              "    80% {\n",
              "      border-color: transparent;\n",
              "      border-right-color: var(--fill-color);\n",
              "      border-bottom-color: var(--fill-color);\n",
              "    }\n",
              "    90% {\n",
              "      border-color: transparent;\n",
              "      border-bottom-color: var(--fill-color);\n",
              "    }\n",
              "  }\n",
              "</style>\n",
              "\n",
              "  <script>\n",
              "    async function quickchart(key) {\n",
              "      const quickchartButtonEl =\n",
              "        document.querySelector('#' + key + ' button');\n",
              "      quickchartButtonEl.disabled = true;  // To prevent multiple clicks.\n",
              "      quickchartButtonEl.classList.add('colab-df-spinner');\n",
              "      try {\n",
              "        const charts = await google.colab.kernel.invokeFunction(\n",
              "            'suggestCharts', [key], {});\n",
              "      } catch (error) {\n",
              "        console.error('Error during call to suggestCharts:', error);\n",
              "      }\n",
              "      quickchartButtonEl.classList.remove('colab-df-spinner');\n",
              "      quickchartButtonEl.classList.add('colab-df-quickchart-complete');\n",
              "    }\n",
              "    (() => {\n",
              "      let quickchartButtonEl =\n",
              "        document.querySelector('#df-0f3f320f-6727-4ce6-b977-4b5e4707fdd4 button');\n",
              "      quickchartButtonEl.style.display =\n",
              "        google.colab.kernel.accessAllowed ? 'block' : 'none';\n",
              "    })();\n",
              "  </script>\n",
              "</div>\n",
              "    </div>\n",
              "  </div>\n"
            ],
            "text/plain": [
              "   Product type  SKU      Price  Availability  Number of products sold  \\\n",
              "0             1    0  69.808006            55                      802   \n",
              "1             2    1  14.843523            95                      736   \n",
              "2             1   12  11.319683            34                        8   \n",
              "3             2   23  61.163343            68                       83   \n",
              "4             2   34   4.805496            26                      871   \n",
              "\n",
              "   Revenue generated  Customer demographics  Stock levels  Lead times  \\\n",
              "0        8661.996792                      2            58           7   \n",
              "1        7460.900065                      0            53          30   \n",
              "2        9577.749626                      3             1          10   \n",
              "3        7766.836426                      2            23          13   \n",
              "4        2686.505152                      2             5           3   \n",
              "\n",
              "   Order quantities  ...  Location  Lead time  Production volumes  \\\n",
              "0                96  ...         4         29                 215   \n",
              "1                37  ...         4         23                 517   \n",
              "2                88  ...         4         12                 971   \n",
              "3                59  ...         3         24                 937   \n",
              "4                56  ...         2          5                 414   \n",
              "\n",
              "   Manufacturing lead time  Manufacturing costs  Inspection results  \\\n",
              "0                       29            46.279879                   2   \n",
              "1                       30            33.616769                   2   \n",
              "2                       27            30.688019                   2   \n",
              "3                       18            35.624741                   0   \n",
              "4                        3            92.065161                   0   \n",
              "\n",
              "   Defect rates  Transportation modes  Routes       Costs  \n",
              "0      0.226410                     2       1  187.752075  \n",
              "1      4.854068                     2       1  503.065579  \n",
              "2      4.580593                     0       2  141.920282  \n",
              "3      4.746649                     1       0  254.776159  \n",
              "4      3.145580                     0       0  923.440632  \n",
              "\n",
              "[5 rows x 24 columns]"
            ]
          },
          "execution_count": 15,
          "metadata": {},
          "output_type": "execute_result"
        }
      ],
      "source": [
        "df.head()"
      ]
    },
    {
      "cell_type": "code",
      "execution_count": null,
      "metadata": {
        "colab": {
          "base_uri": "https://localhost:8080/",
          "height": 466
        },
        "id": "EOw6IPZVBNo7",
        "outputId": "069be88f-5fe4-4233-9e7e-3e57ffa1b4b1"
      },
      "outputs": [
        {
          "data": {
            "text/plain": [
              "<Axes: xlabel='Product type', ylabel='Number of products sold'>"
            ]
          },
          "execution_count": 16,
          "metadata": {},
          "output_type": "execute_result"
        },
        {
          "data": {
            "image/png": "[encoded data removed]",
            "text/plain": [
              "<Figure size 640x480 with 1 Axes>"
            ]
          },
          "metadata": {},
          "output_type": "display_data"
        }
      ],
      "source": [
        "sns.barplot(y=df['Number of products sold'], x=df['Product type'],hue=df[\"Product type\"])"
      ]
    },
    {
      "cell_type": "code",
      "execution_count": null,
      "metadata": {
        "colab": {
          "base_uri": "https://localhost:8080/",
          "height": 466
        },
        "id": "E7UX9efBBNji",
        "outputId": "4bcdc8fe-f0b8-48c1-b449-1b76aff43b8c"
      },
      "outputs": [
        {
          "data": {
            "text/plain": [
              "<Axes: xlabel='Product type', ylabel='Revenue generated'>"
            ]
          },
          "execution_count": 17,
          "metadata": {},
          "output_type": "execute_result"
        },
        {
          "data": {
            "image/png": "[encoded data removed]",
            "text/plain": [
              "<Figure size 640x480 with 1 Axes>"
            ]
          },
          "metadata": {},
          "output_type": "display_data"
        }
      ],
      "source": [
        "sns.barplot(y=df['Revenue generated'], x=df['Product type'],hue=df[\"Product type\"])"
      ]
    },
    {
      "cell_type": "code",
      "execution_count": null,
      "metadata": {
        "colab": {
          "base_uri": "https://localhost:8080/",
          "height": 466
        },
        "id": "7LE0A4efBNX8",
        "outputId": "87e2407f-5396-4bba-e17f-21f4943de42a"
      },
      "outputs": [
        {
          "data": {
            "text/plain": [
              "<Axes: xlabel='Location', ylabel='Number of products sold'>"
            ]
          },
          "execution_count": 18,
          "metadata": {},
          "output_type": "execute_result"
        },
        {
          "data": {
            "image/png": "[encoded data removed]",
            "text/plain": [
              "<Figure size 640x480 with 1 Axes>"
            ]
          },
          "metadata": {},
          "output_type": "display_data"
        }
      ],
      "source": [
        "sns.barplot(y=df['Number of products sold'], x=df['Location'], hue=df['Product type'])"
      ]
    },
    {
      "cell_type": "code",
      "execution_count": null,
      "metadata": {
        "colab": {
          "base_uri": "https://localhost:8080/",
          "height": 466
        },
        "id": "eiPIkqoeJI_u",
        "outputId": "e5824c45-3a98-4664-9a23-9f240b7a4d29"
      },
      "outputs": [
        {
          "data": {
            "text/plain": [
              "<Axes: xlabel='Product type', ylabel='Number of products sold'>"
            ]
          },
          "execution_count": 19,
          "metadata": {},
          "output_type": "execute_result"
        },
        {
          "data": {
            "image/png": "[encoded data removed]",
            "text/plain": [
              "<Figure size 640x480 with 1 Axes>"
            ]
          },
          "metadata": {},
          "output_type": "display_data"
        }
      ],
      "source": [
        "sns.barplot(y=df['Number of products sold'], x=df['Product type'], hue=df[\"Product type\"])"
      ]
    },
    {
      "cell_type": "code",
      "execution_count": null,
      "metadata": {
        "colab": {
          "base_uri": "https://localhost:8080/",
          "height": 718
        },
        "id": "n6YPSyghmmVW",
        "outputId": "19e61197-9bf5-4e1c-c8d1-129138c93c9e"
      },
      "outputs": [
        {
          "data": {
            "image/png": "[encoded data removed]",
            "text/plain": [
              "<Figure size 1000x800 with 2 Axes>"
            ]
          },
          "metadata": {},
          "output_type": "display_data"
        }
      ],
      "source": [
        "cross_tab = pd.crosstab(df['Location'], df['Transportation modes'], normalize='columns') * 100\n",
        "\n",
        "# Create the heatmap with values inside the boxes\n",
        "plt.figure(figsize=(10, 8))\n",
        "sns.heatmap(cross_tab, annot=True, fmt=\".2f\", cmap=\"YlGnBu\")\n",
        "plt.title('Percentage of Transportation Modes by Location')\n",
        "plt.xlabel('Transportation Modes')\n",
        "plt.ylabel('Location')\n",
        "plt.show()"
      ]
    },
    {
      "cell_type": "code",
      "execution_count": null,
      "metadata": {
        "id": "WusUGksn70_P"
      },
      "outputs": [],
      "source": [
        "x=df.drop(columns=['Revenue generated'])\n",
        "y=df['Revenue generated']"
      ]
    },
    {
      "cell_type": "code",
      "execution_count": null,
      "metadata": {
        "id": "ivBRUIVC8QQ4"
      },
      "outputs": [],
      "source": [
        "from sklearn.model_selection import train_test_split\n",
        "x_train, x_test, y_train, y_test = train_test_split(x, y, test_size=0.2, random_state=42)"
      ]
    },
    {
      "cell_type": "code",
      "execution_count": null,
      "metadata": {
        "id": "DPiFrMo0HQj_"
      },
      "outputs": [],
      "source": [
        "from keras import Sequential\n",
        "from keras.layers import Dense,SimpleRNN"
      ]
    },
    {
      "cell_type": "code",
      "execution_count": null,
      "metadata": {
        "colab": {
          "base_uri": "https://localhost:8080/"
        },
        "id": "9fFMnCab5386",
        "outputId": "d89ad3de-75f6-4cf8-fcb5-96888684f227"
      },
      "outputs": [
        {
          "name": "stdout",
          "output_type": "stream",
          "text": [
            "Model: \"sequential\"\n",
            "_________________________________________________________________\n",
            " Layer (type)                Output Shape              Param #   \n",
            "=================================================================\n",
            " simple_rnn (SimpleRNN)      (None, 10)                340       \n",
            "                                                                 \n",
            " dense (Dense)               (None, 1)                 11        \n",
            "                                                                 \n",
            "=================================================================\n",
            "Total params: 351 (1.37 KB)\n",
            "Trainable params: 351 (1.37 KB)\n",
            "Non-trainable params: 0 (0.00 Byte)\n",
            "_________________________________________________________________\n"
          ]
        }
      ],
      "source": [
        "model=Sequential()\n",
        "model.add(SimpleRNN(10,input_shape=(100,23)))\n",
        "model.add(Dense(1,activation='sigmoid'))\n",
        "model.summary()"
      ]
    },
    {
      "cell_type": "code",
      "execution_count": null,
      "metadata": {
        "colab": {
          "base_uri": "https://localhost:8080/"
        },
        "id": "N027tvBn7BWy",
        "outputId": "d918ec0a-1869-4adf-c854-dee0a675aa00"
      },
      "outputs": [
        {
          "name": "stdout",
          "output_type": "stream",
          "text": [
            "(23, 10)\n"
          ]
        },
        {
          "data": {
            "text/plain": [
              "array([[-0.15971449, -0.4257703 ,  0.12959278, -0.19241287,  0.3140272 ,\n",
              "         0.14615297,  0.14657438, -0.10232627, -0.25787914, -0.16227576],\n",
              "       [-0.24660899, -0.00657853, -0.04839671,  0.31962574, -0.28350276,\n",
              "         0.08068985,  0.08531028, -0.04754266, -0.221916  , -0.0264422 ],\n",
              "       [ 0.00370488, -0.04639724, -0.20231496,  0.00100675,  0.00138769,\n",
              "         0.2889701 ,  0.23579025, -0.22326994, -0.38885573, -0.07885477],\n",
              "       [-0.19852763, -0.1632266 , -0.33021095,  0.15168971, -0.2781772 ,\n",
              "        -0.34398758, -0.20595008, -0.13761216,  0.36706102,  0.34425282],\n",
              "       [ 0.35305882,  0.3238566 ,  0.14576018,  0.02454102, -0.00473836,\n",
              "        -0.15402192,  0.36498332,  0.1721068 ,  0.02404541,  0.05242893],\n",
              "       [ 0.3371991 ,  0.36875528, -0.23115017, -0.279889  ,  0.22271079,\n",
              "         0.1085965 , -0.3846579 , -0.33252266, -0.40054005, -0.12353644],\n",
              "       [-0.38009438,  0.21051013, -0.15973097, -0.41410297, -0.19645749,\n",
              "        -0.20506868,  0.11431336,  0.08487338,  0.18375337, -0.16060618],\n",
              "       [ 0.11848497,  0.3492428 ,  0.03029832, -0.06039873, -0.1071786 ,\n",
              "         0.17991942, -0.26055986,  0.0453923 ,  0.2858048 ,  0.2780068 ],\n",
              "       [ 0.03381389,  0.12435544, -0.3190871 ,  0.13310713,  0.167274  ,\n",
              "         0.12229556,  0.02538958, -0.3491872 , -0.13949728, -0.41810593],\n",
              "       [ 0.14993697,  0.02616924, -0.3090197 , -0.13406953, -0.36891186,\n",
              "        -0.40682906,  0.40303808, -0.09167638,  0.11887664, -0.3034473 ],\n",
              "       [-0.10408899,  0.22335696, -0.11997795, -0.3171407 ,  0.36523283,\n",
              "        -0.05552861, -0.2396916 ,  0.18039131,  0.3693481 ,  0.09767634],\n",
              "       [-0.0393427 ,  0.39402288, -0.04155782, -0.15880054, -0.00918242,\n",
              "         0.0215922 ,  0.25761473,  0.20400435, -0.15221927, -0.22912832],\n",
              "       [ 0.16616523, -0.22590624, -0.23534566,  0.35749483,  0.14747757,\n",
              "        -0.10400087,  0.10590214, -0.05019581, -0.17193499, -0.1314306 ],\n",
              "       [-0.10117874, -0.11268768,  0.19706309,  0.40964156,  0.38906687,\n",
              "        -0.1581729 ,  0.40200984,  0.17378491,  0.293954  , -0.21948597],\n",
              "       [-0.38512757,  0.40335453,  0.006246  ,  0.3264215 ,  0.18954355,\n",
              "        -0.09826672,  0.23907399,  0.04412588,  0.37500966,  0.2565195 ],\n",
              "       [ 0.32212365,  0.13113743, -0.0198116 ,  0.09002101,  0.41642302,\n",
              "         0.34081614, -0.06976649,  0.26699007, -0.26365608, -0.10123962],\n",
              "       [ 0.2607692 ,  0.3312145 , -0.1005415 ,  0.316413  , -0.02442154,\n",
              "        -0.4075486 , -0.34706926, -0.378383  , -0.17157489,  0.38775134],\n",
              "       [-0.2957344 ,  0.01669607,  0.04079768, -0.3294309 ,  0.27000213,\n",
              "        -0.20197012, -0.19283375, -0.20059656, -0.26408166,  0.4002989 ],\n",
              "       [ 0.24703354,  0.16685879,  0.05181471, -0.21005306,  0.08975595,\n",
              "        -0.114977  ,  0.0395824 , -0.26935017,  0.21548921,  0.3989882 ],\n",
              "       [-0.34955156,  0.07760471,  0.2868132 ,  0.24066103,  0.27745378,\n",
              "        -0.20382422, -0.39237067,  0.39517754, -0.22993307,  0.13842261],\n",
              "       [-0.03326827,  0.241552  , -0.32567805,  0.08952802, -0.04369566,\n",
              "        -0.1202983 ,  0.37160653, -0.42074466, -0.06439781,  0.29531884],\n",
              "       [-0.19214092, -0.3281036 ,  0.39699894, -0.42634013, -0.08385348,\n",
              "         0.0714201 ,  0.02546421, -0.05969554, -0.3812512 ,  0.4019428 ],\n",
              "       [ 0.00726455,  0.31376803,  0.41772223,  0.34685427,  0.2476663 ,\n",
              "         0.08614463,  0.10593468,  0.1407175 ,  0.02461004, -0.36015978]],\n",
              "      dtype=float32)"
            ]
          },
          "execution_count": 24,
          "metadata": {},
          "output_type": "execute_result"
        }
      ],
      "source": [
        "print(model.get_weights()[0].shape)\n",
        "model.get_weights()[0]"
      ]
    },
    {
      "cell_type": "code",
      "execution_count": null,
      "metadata": {
        "colab": {
          "base_uri": "https://localhost:8080/"
        },
        "id": "pzo7TCXw7Bud",
        "outputId": "5ed8b1c1-6660-4e34-a115-445330e47241"
      },
      "outputs": [
        {
          "name": "stdout",
          "output_type": "stream",
          "text": [
            "(10, 10)\n"
          ]
        },
        {
          "data": {
            "text/plain": [
              "array([[ 0.03604794, -0.00697062,  0.44520524, -0.6480849 , -0.46944365,\n",
              "         0.07057923,  0.17614809,  0.11508032,  0.02775116, -0.33170718],\n",
              "       [-0.1376456 ,  0.22413309,  0.08479694,  0.435323  , -0.03902361,\n",
              "         0.11390124,  0.52258927, -0.04744231,  0.55477756, -0.36945462],\n",
              "       [-0.44110256,  0.32787427, -0.00178531, -0.11308286,  0.17007007,\n",
              "        -0.5736119 ,  0.3362422 , -0.14940351, -0.4244737 , -0.1078116 ],\n",
              "       [ 0.18119255, -0.05664042, -0.3961379 ,  0.03300026,  0.16522503,\n",
              "         0.31232604,  0.10225741,  0.2641534 , -0.4459685 , -0.63401794],\n",
              "       [ 0.11532965,  0.1020433 , -0.19230872, -0.16386436,  0.01550133,\n",
              "         0.20362468,  0.6156416 ,  0.41697514, -0.06680024,  0.5598247 ],\n",
              "       [ 0.01028397,  0.623824  ,  0.05550123, -0.14386863,  0.10035005,\n",
              "         0.5610975 , -0.09496084, -0.4734364 , -0.14134237,  0.09445421],\n",
              "       [-0.16598737,  0.2450875 ,  0.5076733 ,  0.05558625,  0.47418824,\n",
              "         0.08140123, -0.25069958,  0.5965483 ,  0.02349567, -0.02838163],\n",
              "       [ 0.4431686 , -0.15034819,  0.5618783 ,  0.41538107, -0.03331843,\n",
              "        -0.01646099,  0.24536768, -0.17931658, -0.4407729 ,  0.06875075],\n",
              "       [-0.20363966, -0.54799   ,  0.13874985, -0.28478923,  0.58032656,\n",
              "         0.22442843,  0.24487557, -0.3166868 ,  0.10156097, -0.01285292],\n",
              "       [-0.68813217, -0.2376371 ,  0.07013693,  0.26891893, -0.38577554,\n",
              "         0.37670708, -0.03612723,  0.07798991, -0.2877473 ,  0.10885311]],\n",
              "      dtype=float32)"
            ]
          },
          "execution_count": 25,
          "metadata": {},
          "output_type": "execute_result"
        }
      ],
      "source": [
        "print(model.get_weights()[1].shape)\n",
        "model.get_weights()[1]"
      ]
    },
    {
      "cell_type": "code",
      "execution_count": null,
      "metadata": {
        "id": "OIAFezJK7IRE"
      },
      "outputs": [],
      "source": [
        "model.compile(optimizer='adam', loss='mean_squared_error')"
      ]
    },
    {
      "cell_type": "code",
      "execution_count": null,
      "metadata": {
        "id": "WJctp5fXALVA"
      },
      "outputs": [],
      "source": [
        "import pandas as pd\n",
        "from sklearn.model_selection import train_test_split\n",
        "from keras.models import Sequential\n",
        "from keras.layers import Dense, LSTM, GRU\n",
        "import matplotlib.pyplot as plt"
      ]
    },
    {
      "cell_type": "code",
      "execution_count": null,
      "metadata": {
        "id": "gmIeg9JaAL1s"
      },
      "outputs": [],
      "source": [
        "x_train, x_test, y_train, y_test = train_test_split(x, y, test_size=0.2, random_state=42)\n",
        "x_train_array = x_train.values\n",
        "x_test_array = x_test.values"
      ]
    },
    {
      "cell_type": "code",
      "execution_count": null,
      "metadata": {
        "id": "tDd-XaO_AOmN"
      },
      "outputs": [],
      "source": [
        "\n",
        "x_train_rnn = x_train_array.reshape((x_train_array.shape[0], 1, x_train_array.shape[1]))\n",
        "x_test_rnn = x_test_array.reshape((x_test_array.shape[0], 1, x_test_array.shape[1]))"
      ]
    },
    {
      "cell_type": "code",
      "execution_count": null,
      "metadata": {
        "id": "NbOOB1j-ATWs"
      },
      "outputs": [],
      "source": [
        "def train_model(model_type):\n",
        "    model = Sequential()\n",
        "    if model_type == 'LSTM':\n",
        "        model.add(LSTM(10, input_shape=(x_train_rnn.shape[1], x_train_rnn.shape[2])))\n",
        "    elif model_type == 'RNN':\n",
        "        model.add(SimpleRNN(10, input_shape=(x_train_rnn.shape[1], x_train_rnn.shape[2])))\n",
        "    elif model_type == 'GRU':\n",
        "        model.add(GRU(10, input_shape=(x_train_rnn.shape[1], x_train_rnn.shape[2])))\n",
        "    else:\n",
        "        raise ValueError(\"Invalid model type. Choose either 'LSTM', 'RNN', or 'GRU'.\")\n",
        "    model.add(Dense(1))\n",
        "    model.compile(optimizer='adam', loss='mean_squared_error')\n",
        "    history = model.fit(x_train_rnn, y_train, epochs=10, batch_size=32, validation_data=(x_test_rnn, y_test), verbose=0)\n",
        "    val_r2_score = r2_score(y_test, model.predict(x_test_rnn))\n",
        "    mse = mean_squared_error(y_test, model.predict(x_test_rnn))\n",
        "    print(f\"MSE of {model_type}: {mse}\")\n",
        "    return mse"
      ]
    },
    {
      "cell_type": "code",
      "execution_count": null,
      "metadata": {
        "colab": {
          "background_save": true,
          "base_uri": "https://localhost:8080/",
          "height": 628
        },
        "id": "_fmltTcaBhel",
        "outputId": "3ed75efe-9dcb-4dd0-bf67-46a0729a9397"
      },
      "outputs": [
        {
          "name": "stdout",
          "output_type": "stream",
          "text": [
            "1/1 [==============================] - 0s 464ms/step\n",
            "1/1 [==============================] - 0s 23ms/step\n",
            "MSE of LSTM: 39312003.22354709\n",
            "1/1 [==============================] - 0s 156ms/step\n",
            "1/1 [==============================] - 0s 24ms/step\n",
            "MSE of RNN: 39286778.123854734\n",
            "1/1 [==============================] - 1s 1s/step\n",
            "1/1 [==============================] - 0s 23ms/step\n",
            "MSE of GRU: 39302861.950166136\n"
          ]
        },
        {
          "data": {
            "image/png": "[encoded data removed]",
            "text/plain": [
              "<Figure size 640x480 with 1 Axes>"
            ]
          },
          "metadata": {},
          "output_type": "display_data"
        }
      ],
      "source": [
        "model_types = ['LSTM', 'RNN', 'GRU']\n",
        "mses = []\n",
        "for model_type in model_types:\n",
        "    mses.append(train_model(model_type))\n",
        "\n",
        "plt.bar(model_types, mses)\n",
        "plt.xlabel('Model Type')\n",
        "plt.ylabel('Mean Squared Error (MSE)')\n",
        "plt.title('MSE Comparison of RNN Variants')\n",
        "plt.show()"
      ]
    },
    {
      "cell_type": "code",
      "execution_count": null,
      "metadata": {
        "id": "QE6Yd7hrjbzX"
      },
      "outputs": [],
      "source": []
    }
  ],
  "metadata": {
    "colab": {
      "provenance": []
    },
    "kernelspec": {
      "display_name": "Python 3",
      "name": "python3"
    },
    "language_info": {
      "name": "python"
    }
  },
  "nbformat": 4,
  "nbformat_minor": 0
}